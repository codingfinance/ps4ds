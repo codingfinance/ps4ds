{
 "cells": [
  {
   "cell_type": "markdown",
   "metadata": {},
   "source": [
    "### Chapter 1\n",
    "\n",
    "#### Exploratory Data Analysis"
   ]
  },
  {
   "cell_type": "code",
   "execution_count": 1,
   "metadata": {},
   "outputs": [],
   "source": [
    "suppressMessages(library(tidyverse))"
   ]
  },
  {
   "cell_type": "markdown",
   "metadata": {},
   "source": [
    "Loading the data"
   ]
  },
  {
   "cell_type": "code",
   "execution_count": 2,
   "metadata": {
    "scrolled": false
   },
   "outputs": [
    {
     "name": "stderr",
     "output_type": "stream",
     "text": [
      "Parsed with column specification:\n",
      "cols(\n",
      "  State = col_character(),\n",
      "  Population = col_integer(),\n",
      "  Murder.Rate = col_double(),\n",
      "  Abbreviation = col_character()\n",
      ")\n"
     ]
    }
   ],
   "source": [
    "state <- read_csv('psds_data/state.csv',)"
   ]
  },
  {
   "cell_type": "markdown",
   "metadata": {},
   "source": [
    "Looking at the top 5 rows of the data"
   ]
  },
  {
   "cell_type": "code",
   "execution_count": 3,
   "metadata": {},
   "outputs": [
    {
     "data": {
      "text/html": [
       "<table>\n",
       "<thead><tr><th scope=col>State</th><th scope=col>Population</th><th scope=col>Murder.Rate</th><th scope=col>Abbreviation</th></tr></thead>\n",
       "<tbody>\n",
       "\t<tr><td>Alabama   </td><td> 4779736  </td><td>5.7       </td><td>AL        </td></tr>\n",
       "\t<tr><td>Alaska    </td><td>  710231  </td><td>5.6       </td><td>AK        </td></tr>\n",
       "\t<tr><td>Arizona   </td><td> 6392017  </td><td>4.7       </td><td>AZ        </td></tr>\n",
       "\t<tr><td>Arkansas  </td><td> 2915918  </td><td>5.6       </td><td>AR        </td></tr>\n",
       "\t<tr><td>California</td><td>37253956  </td><td>4.4       </td><td>CA        </td></tr>\n",
       "</tbody>\n",
       "</table>\n"
      ],
      "text/latex": [
       "\\begin{tabular}{r|llll}\n",
       " State & Population & Murder.Rate & Abbreviation\\\\\n",
       "\\hline\n",
       "\t Alabama    &  4779736   & 5.7        & AL        \\\\\n",
       "\t Alaska     &   710231   & 5.6        & AK        \\\\\n",
       "\t Arizona    &  6392017   & 4.7        & AZ        \\\\\n",
       "\t Arkansas   &  2915918   & 5.6        & AR        \\\\\n",
       "\t California & 37253956   & 4.4        & CA        \\\\\n",
       "\\end{tabular}\n"
      ],
      "text/markdown": [
       "\n",
       "| State | Population | Murder.Rate | Abbreviation |\n",
       "|---|---|---|---|\n",
       "| Alabama    |  4779736   | 5.7        | AL         |\n",
       "| Alaska     |   710231   | 5.6        | AK         |\n",
       "| Arizona    |  6392017   | 4.7        | AZ         |\n",
       "| Arkansas   |  2915918   | 5.6        | AR         |\n",
       "| California | 37253956   | 4.4        | CA         |\n",
       "\n"
      ],
      "text/plain": [
       "  State      Population Murder.Rate Abbreviation\n",
       "1 Alabama     4779736   5.7         AL          \n",
       "2 Alaska       710231   5.6         AK          \n",
       "3 Arizona     6392017   4.7         AZ          \n",
       "4 Arkansas    2915918   5.6         AR          \n",
       "5 California 37253956   4.4         CA          "
      ]
     },
     "metadata": {},
     "output_type": "display_data"
    }
   ],
   "source": [
    "head(state, n =5)"
   ]
  },
  {
   "cell_type": "markdown",
   "metadata": {},
   "source": [
    "#### Data Location"
   ]
  },
  {
   "cell_type": "markdown",
   "metadata": {},
   "source": [
    "Calculate the mean Population of all data."
   ]
  },
  {
   "cell_type": "code",
   "execution_count": 4,
   "metadata": {},
   "outputs": [
    {
     "data": {
      "text/html": [
       "6162876.3"
      ],
      "text/latex": [
       "6162876.3"
      ],
      "text/markdown": [
       "6162876.3"
      ],
      "text/plain": [
       "[1] 6162876"
      ]
     },
     "metadata": {},
     "output_type": "display_data"
    }
   ],
   "source": [
    "mean(state[['Population']])"
   ]
  },
  {
   "cell_type": "markdown",
   "metadata": {},
   "source": [
    "Calculating the trimmed mean for all data."
   ]
  },
  {
   "cell_type": "code",
   "execution_count": 5,
   "metadata": {},
   "outputs": [
    {
     "data": {
      "text/html": [
       "4783697.125"
      ],
      "text/latex": [
       "4783697.125"
      ],
      "text/markdown": [
       "4783697.125"
      ],
      "text/plain": [
       "[1] 4783697"
      ]
     },
     "metadata": {},
     "output_type": "display_data"
    }
   ],
   "source": [
    "mean(state[['Population']], trim = 0.1)"
   ]
  },
  {
   "cell_type": "markdown",
   "metadata": {},
   "source": [
    "Calculating the median of all Population data."
   ]
  },
  {
   "cell_type": "code",
   "execution_count": 6,
   "metadata": {},
   "outputs": [
    {
     "data": {
      "text/html": [
       "4436369.5"
      ],
      "text/latex": [
       "4436369.5"
      ],
      "text/markdown": [
       "4436369.5"
      ],
      "text/plain": [
       "[1] 4436370"
      ]
     },
     "metadata": {},
     "output_type": "display_data"
    }
   ],
   "source": [
    "median(state[['Population']])"
   ]
  },
  {
   "cell_type": "markdown",
   "metadata": {},
   "source": [
    "Calculating the average murder rate for the whole country."
   ]
  },
  {
   "cell_type": "code",
   "execution_count": 7,
   "metadata": {},
   "outputs": [
    {
     "data": {
      "text/html": [
       "4.066"
      ],
      "text/latex": [
       "4.066"
      ],
      "text/markdown": [
       "4.066"
      ],
      "text/plain": [
       "[1] 4.066"
      ]
     },
     "metadata": {},
     "output_type": "display_data"
    }
   ],
   "source": [
    "mean(state[['Murder.Rate']])"
   ]
  },
  {
   "cell_type": "markdown",
   "metadata": {},
   "source": [
    "Calculating the murder rate weighted by the state population."
   ]
  },
  {
   "cell_type": "code",
   "execution_count": 8,
   "metadata": {},
   "outputs": [
    {
     "data": {
      "text/html": [
       "4.44583398112339"
      ],
      "text/latex": [
       "4.44583398112339"
      ],
      "text/markdown": [
       "4.44583398112339"
      ],
      "text/plain": [
       "[1] 4.445834"
      ]
     },
     "metadata": {},
     "output_type": "display_data"
    }
   ],
   "source": [
    "weighted.mean(state[['Murder.Rate']], w = state[['Population']])"
   ]
  },
  {
   "cell_type": "markdown",
   "metadata": {},
   "source": [
    "R does not have a built in function to calculate the weighted median. We will load the matrixStats and use that for getting the weighted median."
   ]
  },
  {
   "cell_type": "code",
   "execution_count": 9,
   "metadata": {},
   "outputs": [
    {
     "name": "stderr",
     "output_type": "stream",
     "text": [
      "Warning message:\n",
      "\"package 'matrixStats' was built under R version 3.5.3\""
     ]
    }
   ],
   "source": [
    "suppressMessages(library(matrixStats))"
   ]
  },
  {
   "cell_type": "code",
   "execution_count": 10,
   "metadata": {},
   "outputs": [
    {
     "data": {
      "text/html": [
       "4.4"
      ],
      "text/latex": [
       "4.4"
      ],
      "text/markdown": [
       "4.4"
      ],
      "text/plain": [
       "[1] 4.4"
      ]
     },
     "metadata": {},
     "output_type": "display_data"
    }
   ],
   "source": [
    "weightedMedian(state[['Murder.Rate']], w = state[['Population']])"
   ]
  },
  {
   "cell_type": "markdown",
   "metadata": {},
   "source": [
    "In this case the weighted mean and the median are almost the same."
   ]
  },
  {
   "cell_type": "markdown",
   "metadata": {},
   "source": [
    "#### Data Variability\n",
    "\n",
    "After looking at the location of the data, we will look at the variability of the data."
   ]
  },
  {
   "cell_type": "markdown",
   "metadata": {},
   "source": [
    "Calculating the standard deviation of the Population data."
   ]
  },
  {
   "cell_type": "code",
   "execution_count": 11,
   "metadata": {},
   "outputs": [
    {
     "data": {
      "text/html": [
       "6848235"
      ],
      "text/latex": [
       "6848235"
      ],
      "text/markdown": [
       "6848235"
      ],
      "text/plain": [
       "[1] 6848235"
      ]
     },
     "metadata": {},
     "output_type": "display_data"
    }
   ],
   "source": [
    "sd(state[['Population']]) %>% round(0) # Rounding "
   ]
  },
  {
   "cell_type": "markdown",
   "metadata": {},
   "source": [
    "Calculating the IQR (Interquartile Range). This is the difference between the 25th and the 75th percentile."
   ]
  },
  {
   "cell_type": "code",
   "execution_count": 12,
   "metadata": {},
   "outputs": [
    {
     "data": {
      "text/html": [
       "4847308"
      ],
      "text/latex": [
       "4847308"
      ],
      "text/markdown": [
       "4847308"
      ],
      "text/plain": [
       "[1] 4847308"
      ]
     },
     "metadata": {},
     "output_type": "display_data"
    }
   ],
   "source": [
    "IQR(state[['Population']])"
   ]
  },
  {
   "cell_type": "markdown",
   "metadata": {},
   "source": [
    "Calculating the Median absolute deviation form Median (MAD). This measure is not sensitive to outliers."
   ]
  },
  {
   "cell_type": "code",
   "execution_count": 13,
   "metadata": {},
   "outputs": [
    {
     "data": {
      "text/html": [
       "3849870.3852"
      ],
      "text/latex": [
       "3849870.3852"
      ],
      "text/markdown": [
       "3849870.3852"
      ],
      "text/plain": [
       "[1] 3849870"
      ]
     },
     "metadata": {},
     "output_type": "display_data"
    }
   ],
   "source": [
    "mad(state[['Population']])"
   ]
  },
  {
   "cell_type": "markdown",
   "metadata": {},
   "source": [
    "#### Exploring Data Distribution"
   ]
  },
  {
   "cell_type": "markdown",
   "metadata": {},
   "source": [
    "Calculating the percentiles if the data."
   ]
  },
  {
   "cell_type": "code",
   "execution_count": 14,
   "metadata": {},
   "outputs": [
    {
     "data": {
      "text/html": [
       "<dl class=dl-horizontal>\n",
       "\t<dt>0%</dt>\n",
       "\t\t<dd>0.9</dd>\n",
       "\t<dt>25%</dt>\n",
       "\t\t<dd>2.425</dd>\n",
       "\t<dt>50%</dt>\n",
       "\t\t<dd>4</dd>\n",
       "\t<dt>75%</dt>\n",
       "\t\t<dd>5.55</dd>\n",
       "\t<dt>100%</dt>\n",
       "\t\t<dd>10.3</dd>\n",
       "</dl>\n"
      ],
      "text/latex": [
       "\\begin{description*}\n",
       "\\item[0\\textbackslash{}\\%] 0.9\n",
       "\\item[25\\textbackslash{}\\%] 2.425\n",
       "\\item[50\\textbackslash{}\\%] 4\n",
       "\\item[75\\textbackslash{}\\%] 5.55\n",
       "\\item[100\\textbackslash{}\\%] 10.3\n",
       "\\end{description*}\n"
      ],
      "text/markdown": [
       "0%\n",
       ":   0.925%\n",
       ":   2.42550%\n",
       ":   475%\n",
       ":   5.55100%\n",
       ":   10.3\n",
       "\n"
      ],
      "text/plain": [
       "    0%    25%    50%    75%   100% \n",
       " 0.900  2.425  4.000  5.550 10.300 "
      ]
     },
     "metadata": {},
     "output_type": "display_data"
    }
   ],
   "source": [
    "quantile(state[['Murder.Rate']])"
   ]
  },
  {
   "cell_type": "markdown",
   "metadata": {},
   "source": [
    "We can change the percentile values."
   ]
  },
  {
   "cell_type": "code",
   "execution_count": 15,
   "metadata": {},
   "outputs": [
    {
     "data": {
      "text/html": [
       "<dl class=dl-horizontal>\n",
       "\t<dt>5%</dt>\n",
       "\t\t<dd>1.6</dd>\n",
       "\t<dt>35%</dt>\n",
       "\t\t<dd>2.915</dd>\n",
       "\t<dt>50%</dt>\n",
       "\t\t<dd>4</dd>\n",
       "\t<dt>80%</dt>\n",
       "\t\t<dd>5.7</dd>\n",
       "\t<dt>95%</dt>\n",
       "\t\t<dd>6.51</dd>\n",
       "</dl>\n"
      ],
      "text/latex": [
       "\\begin{description*}\n",
       "\\item[5\\textbackslash{}\\%] 1.6\n",
       "\\item[35\\textbackslash{}\\%] 2.915\n",
       "\\item[50\\textbackslash{}\\%] 4\n",
       "\\item[80\\textbackslash{}\\%] 5.7\n",
       "\\item[95\\textbackslash{}\\%] 6.51\n",
       "\\end{description*}\n"
      ],
      "text/markdown": [
       "5%\n",
       ":   1.635%\n",
       ":   2.91550%\n",
       ":   480%\n",
       ":   5.795%\n",
       ":   6.51\n",
       "\n"
      ],
      "text/plain": [
       "   5%   35%   50%   80%   95% \n",
       "1.600 2.915 4.000 5.700 6.510 "
      ]
     },
     "metadata": {},
     "output_type": "display_data"
    }
   ],
   "source": [
    "quantile(state[['Murder.Rate']], p = c(0.05,0.35,0.5,0.8,0.95))"
   ]
  },
  {
   "cell_type": "markdown",
   "metadata": {},
   "source": [
    "From the above data we can see the median Murder rate was 4. We can also observe other percentile values."
   ]
  },
  {
   "cell_type": "code",
   "execution_count": 16,
   "metadata": {},
   "outputs": [
    {
     "data": {
      "image/png": "[encoded data removed]",
      "text/plain": [
       "plot without title"
      ]
     },
     "metadata": {},
     "output_type": "display_data"
    }
   ],
   "source": [
    "state %>%\n",
    "  mutate(temp = 1) %>%\n",
    "  mutate(Population = Population/1000000) %>%\n",
    "  ggplot(aes(x = temp, y = Population)) +\n",
    "  geom_boxplot() +\n",
    "  scale_x_continuous(breaks = seq(0,10.10)) +\n",
    "  labs(x = '', y = \"Population (millions)\", title = 'Population Box Plot') +\n",
    "  scale_y_continuous(breaks = seq(0,100,5))\n"
   ]
  },
  {
   "cell_type": "markdown",
   "metadata": {},
   "source": [
    "Build a Frequency Table. In the below code we have divided the states into 11 groups based on the population size."
   ]
  },
  {
   "cell_type": "code",
   "execution_count": 17,
   "metadata": {},
   "outputs": [
    {
     "name": "stdout",
     "output_type": "stream",
     "text": [
      "# A tibble: 8 x 2\n",
      "  group         freq\n",
      "  <fct>        <int>\n",
      "1 [0.564,4.23]    24\n",
      "2 (4.23,7.9]      14\n",
      "3 (7.9,11.6]       6\n",
      "4 (11.6,15.2]      2\n",
      "5 (15.2,18.9]      1\n",
      "6 (18.9,22.6]      1\n",
      "7 (22.6,26.2]      1\n",
      "8 (33.6,37.3]      1\n"
     ]
    }
   ],
   "source": [
    "print(state %>%\n",
    "  mutate(Population = Population/1000000) %>%\n",
    "  group_by(group = cut(Population, breaks = seq(from = min(Population),\n",
    "                                                to = max(Population), length = 11),\n",
    "                      right = TRUE, include.lowest = TRUE)) %>%\n",
    "     ungroup() %>%\n",
    "     group_by(group) %>%\n",
    "     summarise(freq = n()))"
   ]
  },
  {
   "cell_type": "markdown",
   "metadata": {},
   "source": [
    "We can see that there are 24 states that fall in the 564000 to 4.23million bucket. We can see which states belong to which bucket in the code below."
   ]
  },
  {
   "cell_type": "code",
   "execution_count": 18,
   "metadata": {},
   "outputs": [
    {
     "name": "stdout",
     "output_type": "stream",
     "text": [
      "# A tibble: 50 x 5\n",
      "# Groups:   group [8]\n",
      "   State          Population Murder.Rate Abbreviation group       \n",
      "   <chr>               <dbl>       <dbl> <chr>        <fct>       \n",
      " 1 Alaska              0.710         5.6 AK           [0.564,4.23]\n",
      " 2 Arkansas            2.92          5.6 AR           [0.564,4.23]\n",
      " 3 Connecticut         3.57          2.4 CT           [0.564,4.23]\n",
      " 4 Delaware            0.898         5.8 DE           [0.564,4.23]\n",
      " 5 Hawaii              1.36          1.8 HI           [0.564,4.23]\n",
      " 6 Idaho               1.57          2   ID           [0.564,4.23]\n",
      " 7 Iowa                3.05          1.9 IA           [0.564,4.23]\n",
      " 8 Kansas              2.85          3.1 KS           [0.564,4.23]\n",
      " 9 Maine               1.33          1.6 ME           [0.564,4.23]\n",
      "10 Mississippi         2.97          8.6 MS           [0.564,4.23]\n",
      "11 Montana             0.989         3.6 MT           [0.564,4.23]\n",
      "12 Nebraska            1.83          2.9 NE           [0.564,4.23]\n",
      "13 Nevada              2.70          6   NV           [0.564,4.23]\n",
      "14 New Hampshire       1.32          0.9 NH           [0.564,4.23]\n",
      "15 New Mexico          2.06          4.8 NM           [0.564,4.23]\n",
      "16 North Dakota        0.673         3   ND           [0.564,4.23]\n",
      "17 Oklahoma            3.75          4.5 OK           [0.564,4.23]\n",
      "18 Oregon              3.83          2   OR           [0.564,4.23]\n",
      "19 Rhode Island        1.05          2.4 RI           [0.564,4.23]\n",
      "20 South Dakota        0.814         2.3 SD           [0.564,4.23]\n",
      "21 Utah                2.76          2.3 UT           [0.564,4.23]\n",
      "22 Vermont             0.626         1.6 VT           [0.564,4.23]\n",
      "23 West Virginia       1.85          4   WV           [0.564,4.23]\n",
      "24 Wyoming             0.564         2.7 WY           [0.564,4.23]\n",
      "25 Alabama             4.78          5.7 AL           (4.23,7.9]  \n",
      "26 Arizona             6.39          4.7 AZ           (4.23,7.9]  \n",
      "27 Colorado            5.03          2.8 CO           (4.23,7.9]  \n",
      "28 Indiana             6.48          5   IN           (4.23,7.9]  \n",
      "29 Kentucky            4.34          3.6 KY           (4.23,7.9]  \n",
      "30 Louisiana           4.53         10.3 LA           (4.23,7.9]  \n",
      "31 Maryland            5.77          6.1 MD           (4.23,7.9]  \n",
      "32 Massachusetts       6.55          2   MA           (4.23,7.9]  \n",
      "33 Minnesota           5.30          1.6 MN           (4.23,7.9]  \n",
      "34 Missouri            5.99          6.6 MO           (4.23,7.9]  \n",
      "35 South Carolina      4.63          6.4 SC           (4.23,7.9]  \n",
      "36 Tennessee           6.35          5.7 TN           (4.23,7.9]  \n",
      "37 Washington          6.72          2.5 WA           (4.23,7.9]  \n",
      "38 Wisconsin           5.69          2.9 WI           (4.23,7.9]  \n",
      "39 Georgia             9.69          5.7 GA           (7.9,11.6]  \n",
      "40 Michigan            9.88          5.4 MI           (7.9,11.6]  \n",
      "41 New Jersey          8.79          3.9 NJ           (7.9,11.6]  \n",
      "42 North Carolina      9.54          5.1 NC           (7.9,11.6]  \n",
      "43 Ohio               11.5           4   OH           (7.9,11.6]  \n",
      "44 Virginia            8.00          4.1 VA           (7.9,11.6]  \n",
      "45 Illinois           12.8           5.3 IL           (11.6,15.2] \n",
      "46 Pennsylvania       12.7           4.8 PA           (11.6,15.2] \n",
      "47 Florida            18.8           5.8 FL           (15.2,18.9] \n",
      "48 New York           19.4           3.1 NY           (18.9,22.6] \n",
      "49 Texas              25.1           4.4 TX           (22.6,26.2] \n",
      "50 California         37.3           4.4 CA           (33.6,37.3] \n"
     ]
    }
   ],
   "source": [
    "print(state %>%\n",
    "  mutate(Population = Population/1000000) %>%\n",
    "  group_by(group = cut(Population, breaks = seq(from = min(Population),\n",
    "                                                to = max(Population), length = 11), \n",
    "                       right = TRUE, include.lowest = TRUE)) %>%\n",
    "  arrange(group), n = 100)"
   ]
  },
  {
   "cell_type": "code",
   "execution_count": 19,
   "metadata": {},
   "outputs": [
    {
     "data": {
      "image/png": "[encoded data removed]",
      "text/plain": [
       "plot without title"
      ]
     },
     "metadata": {},
     "output_type": "display_data"
    }
   ],
   "source": [
    "state %>%\n",
    "  mutate(Population = Population/1000000) %>%\n",
    "  ggplot(aes(x = Population)) +\n",
    "  geom_histogram(bins = 12, color = 'white', fill = 'grey') + \n",
    "  labs(x = 'Population (millions)', y = \"Frequency\", title = \"Population Histogram\") +\n",
    "  theme_bw()"
   ]
  },
  {
   "cell_type": "code",
   "execution_count": 20,
   "metadata": {},
   "outputs": [
    {
     "data": {
      "image/png": "[encoded data removed]",
      "text/plain": [
       "plot without title"
      ]
     },
     "metadata": {},
     "output_type": "display_data"
    }
   ],
   "source": [
    "state %>%\n",
    "  ggplot(aes(x = Murder.Rate)) +\n",
    "  geom_histogram(aes(y = ..density..),\n",
    "                 bins = 10,\n",
    "                 color = 'black',\n",
    "                 fill = 'white') +\n",
    "  geom_density(position = 'stack') +\n",
    "  labs(x = 'Murder Rate', y = 'Density', title = \"Murder Rate Density and Histogram\") +\n",
    "  theme_bw()"
   ]
  },
  {
   "cell_type": "markdown",
   "metadata": {},
   "source": [
    "Next we will analyze the relationship between stocks and the etf. For that we will load the S&P500 price data and the sector data."
   ]
  },
  {
   "cell_type": "code",
   "execution_count": 21,
   "metadata": {},
   "outputs": [
    {
     "name": "stderr",
     "output_type": "stream",
     "text": [
      "Warning message:\n",
      "\"Missing column names filled in: 'X1' [1]\"Parsed with column specification:\n",
      "cols(\n",
      "  .default = col_double(),\n",
      "  X1 = col_date(format = \"\")\n",
      ")\n",
      "See spec(...) for full column specifications.\n",
      "Parsed with column specification:\n",
      "cols(\n",
      "  sector = col_character(),\n",
      "  sector_label = col_character(),\n",
      "  sub_sector = col_character(),\n",
      "  symbol = col_character()\n",
      ")\n"
     ]
    }
   ],
   "source": [
    "sp_price <- read_csv('psds_data/sp500_data.csv')\n",
    "sp_sector <- read_csv('psds_data/sp500_sectors.csv')"
   ]
  },
  {
   "cell_type": "code",
   "execution_count": 22,
   "metadata": {},
   "outputs": [
    {
     "data": {
      "text/html": [
       "<ol class=list-inline>\n",
       "\t<li>5647</li>\n",
       "\t<li>518</li>\n",
       "</ol>\n"
      ],
      "text/latex": [
       "\\begin{enumerate*}\n",
       "\\item 5647\n",
       "\\item 518\n",
       "\\end{enumerate*}\n"
      ],
      "text/markdown": [
       "1. 5647\n",
       "2. 518\n",
       "\n",
       "\n"
      ],
      "text/plain": [
       "[1] 5647  518"
      ]
     },
     "metadata": {},
     "output_type": "display_data"
    }
   ],
   "source": [
    "dim(sp_price)"
   ]
  },
  {
   "cell_type": "markdown",
   "metadata": {},
   "source": [
    "The price data has 5647 rows and 518 columns."
   ]
  },
  {
   "cell_type": "code",
   "execution_count": 23,
   "metadata": {},
   "outputs": [
    {
     "data": {
      "text/html": [
       "<ol class=list-inline>\n",
       "\t<li>517</li>\n",
       "\t<li>4</li>\n",
       "</ol>\n"
      ],
      "text/latex": [
       "\\begin{enumerate*}\n",
       "\\item 517\n",
       "\\item 4\n",
       "\\end{enumerate*}\n"
      ],
      "text/markdown": [
       "1. 517\n",
       "2. 4\n",
       "\n",
       "\n"
      ],
      "text/plain": [
       "[1] 517   4"
      ]
     },
     "metadata": {},
     "output_type": "display_data"
    }
   ],
   "source": [
    "dim(sp_sector)"
   ]
  },
  {
   "cell_type": "markdown",
   "metadata": {},
   "source": [
    "The sector data has 517 rows and 4 columns."
   ]
  },
  {
   "cell_type": "markdown",
   "metadata": {},
   "source": [
    "We will build the correlation matrix of stocks belonging to the Telecommunication sector."
   ]
  },
  {
   "cell_type": "code",
   "execution_count": 24,
   "metadata": {},
   "outputs": [
    {
     "data": {
      "text/html": [
       "<table>\n",
       "<thead><tr><th></th><th scope=col>T</th><th scope=col>CTL</th><th scope=col>FTR</th><th scope=col>VZ</th><th scope=col>LVLT</th></tr></thead>\n",
       "<tbody>\n",
       "\t<tr><th scope=row>T</th><td>1.00000000</td><td>0.40585278</td><td>0.28327866</td><td>0.61703529</td><td>0.06154493</td></tr>\n",
       "\t<tr><th scope=row>CTL</th><td>0.40585278</td><td>1.00000000</td><td>0.37764400</td><td>0.38575180</td><td>0.05453432</td></tr>\n",
       "\t<tr><th scope=row>FTR</th><td>0.28327866</td><td>0.37764400</td><td>1.00000000</td><td>0.28929482</td><td>0.06731346</td></tr>\n",
       "\t<tr><th scope=row>VZ</th><td>0.61703529</td><td>0.38575180</td><td>0.28929482</td><td>1.00000000</td><td>0.04591859</td></tr>\n",
       "\t<tr><th scope=row>LVLT</th><td>0.06154493</td><td>0.05453432</td><td>0.06731346</td><td>0.04591859</td><td>1.00000000</td></tr>\n",
       "</tbody>\n",
       "</table>\n"
      ],
      "text/latex": [
       "\\begin{tabular}{r|lllll}\n",
       "  & T & CTL & FTR & VZ & LVLT\\\\\n",
       "\\hline\n",
       "\tT & 1.00000000 & 0.40585278 & 0.28327866 & 0.61703529 & 0.06154493\\\\\n",
       "\tCTL & 0.40585278 & 1.00000000 & 0.37764400 & 0.38575180 & 0.05453432\\\\\n",
       "\tFTR & 0.28327866 & 0.37764400 & 1.00000000 & 0.28929482 & 0.06731346\\\\\n",
       "\tVZ & 0.61703529 & 0.38575180 & 0.28929482 & 1.00000000 & 0.04591859\\\\\n",
       "\tLVLT & 0.06154493 & 0.05453432 & 0.06731346 & 0.04591859 & 1.00000000\\\\\n",
       "\\end{tabular}\n"
      ],
      "text/markdown": [
       "\n",
       "| <!--/--> | T | CTL | FTR | VZ | LVLT |\n",
       "|---|---|---|---|---|---|\n",
       "| T | 1.00000000 | 0.40585278 | 0.28327866 | 0.61703529 | 0.06154493 |\n",
       "| CTL | 0.40585278 | 1.00000000 | 0.37764400 | 0.38575180 | 0.05453432 |\n",
       "| FTR | 0.28327866 | 0.37764400 | 1.00000000 | 0.28929482 | 0.06731346 |\n",
       "| VZ | 0.61703529 | 0.38575180 | 0.28929482 | 1.00000000 | 0.04591859 |\n",
       "| LVLT | 0.06154493 | 0.05453432 | 0.06731346 | 0.04591859 | 1.00000000 |\n",
       "\n"
      ],
      "text/plain": [
       "     T          CTL        FTR        VZ         LVLT      \n",
       "T    1.00000000 0.40585278 0.28327866 0.61703529 0.06154493\n",
       "CTL  0.40585278 1.00000000 0.37764400 0.38575180 0.05453432\n",
       "FTR  0.28327866 0.37764400 1.00000000 0.28929482 0.06731346\n",
       "VZ   0.61703529 0.38575180 0.28929482 1.00000000 0.04591859\n",
       "LVLT 0.06154493 0.05453432 0.06731346 0.04591859 1.00000000"
      ]
     },
     "metadata": {},
     "output_type": "display_data"
    }
   ],
   "source": [
    "tele_tickers <- c(\"T\", \"CTL\", \"FTR\", \"VZ\", \"LVLT\")\n",
    "\n",
    "sp_price[tele_tickers] %>%\n",
    "  cor()"
   ]
  },
  {
   "cell_type": "markdown",
   "metadata": {},
   "source": [
    "But its better to visualize the data. We will use the corrplot library to plot the data."
   ]
  },
  {
   "cell_type": "code",
   "execution_count": 25,
   "metadata": {},
   "outputs": [],
   "source": [
    "suppressMessages(library(corrplot))"
   ]
  },
  {
   "cell_type": "code",
   "execution_count": 26,
   "metadata": {},
   "outputs": [
    {
     "data": {
      "image/png": "[encoded data removed]",
      "text/plain": [
       "Plot with title \"\""
      ]
     },
     "metadata": {},
     "output_type": "display_data"
    }
   ],
   "source": [
    "sp_price[tele_tickers] %>%\n",
    "  cor() %>%\n",
    "  corrplot()"
   ]
  },
  {
   "cell_type": "markdown",
   "metadata": {},
   "source": [
    "We can visualize that AT&T and Verizon have a high correlation compared to other stocks."
   ]
  },
  {
   "cell_type": "markdown",
   "metadata": {},
   "source": [
    "We can extend this some of the major sectors."
   ]
  },
  {
   "cell_type": "code",
   "execution_count": 27,
   "metadata": {},
   "outputs": [
    {
     "data": {
      "image/png": "[encoded data removed]",
      "text/plain": [
       "Plot with title \"\""
      ]
     },
     "metadata": {},
     "output_type": "display_data"
    }
   ],
   "source": [
    "sector_tickers <- sp_sector %>%\n",
    "  filter(sector == 'etf') %>%\n",
    "  select(symbol) %>%\n",
    "  .[[1]]\n",
    "\n",
    "sp_price[sector_tickers] %>%\n",
    "  cor() %>%\n",
    "  corrplot(method = 'ellipse')"
   ]
  },
  {
   "cell_type": "markdown",
   "metadata": {},
   "source": [
    "We can see that GLD, USO and XTL etfs have low correlation with other sectors."
   ]
  },
  {
   "cell_type": "code",
   "execution_count": 28,
   "metadata": {},
   "outputs": [
    {
     "data": {
      "image/png": "[encoded data removed]",
      "text/plain": [
       "plot without title"
      ]
     },
     "metadata": {},
     "output_type": "display_data"
    }
   ],
   "source": [
    "sp_price %>%\n",
    "  select(c(T,VZ)) %>%\n",
    "  ggplot(aes(x = T, y = VZ)) +\n",
    "  geom_point() +\n",
    "  geom_smooth(method = 'lm') +\n",
    "  labs(x = 'AT&T returns',\n",
    "       y = 'Verizon returns',\n",
    "       title = \"Scatter plot showing AT&T and Verizon returns\")"
   ]
  },
  {
   "cell_type": "markdown",
   "metadata": {},
   "source": [
    "# Note\n",
    "The data used to produce this chart was downloaded from the author's google drive. https://drive.google.com/drive/folders/0B98qpkK5EJemYnJ1ajA1ZVJwMzg <br>\n",
    "\n",
    "It appears that the returns data is wrong. The equity stock returns cannot go below -100%. We used the data to demonstrate how to create the chart, and not to drawn any conclusions."
   ]
  }
 ],
 "metadata": {
  "kernelspec": {
   "display_name": "R",
   "language": "R",
   "name": "ir"
  },
  "language_info": {
   "codemirror_mode": "r",
   "file_extension": ".r",
   "mimetype": "text/x-r-source",
   "name": "R",
   "pygments_lexer": "r",
   "version": "3.5.2"
  }
 },
 "nbformat": 4,
 "nbformat_minor": 2
}
